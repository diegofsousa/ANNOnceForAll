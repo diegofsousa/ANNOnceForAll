{
 "cells": [
  {
   "cell_type": "code",
   "execution_count": 2,
   "metadata": {
    "collapsed": true
   },
   "outputs": [],
   "source": [
    "from pybrain.datasets import SupervisedDataSet\n",
    "from pybrain.tools.shortcuts import buildNetwork\n",
    "from pybrain.supervised import BackpropTrainer"
   ]
  },
  {
   "cell_type": "code",
   "execution_count": 19,
   "metadata": {
    "collapsed": false
   },
   "outputs": [],
   "source": [
    "# duas entradas e uma saída\n",
    "dataset = SupervisedDataSet(2, 1) \n",
    "\n",
    "# entradas\n",
    "dataset.addSample([1,1], [0])\n",
    "dataset.addSample([1,0], [1])\n",
    "dataset.addSample([0,1], [1])\n",
    "dataset.addSample([0,0], [0])\n",
    "\n",
    "# construção da rede neural\n",
    "network = buildNetwork(dataset.indim, 4, dataset.outdim, bias=True)\n",
    "# \"indim\" é a dimensão das entradas da rede: 2.\n",
    "# o segundo parâmetro é a quantidade de neurônios na...\n",
    "#...camada intermediária: 4.\n",
    "# \"outdim\" é a dimensão da saída da rede: 1.\n",
    "\n",
    "trainer = BackpropTrainer(network, dataset, learningrate=0.01, momentum=0.99)\n",
    "# o algoritmo usado é o clássico \"backpropagation.\n",
    "\n",
    "trainer.trainEpochs(500)\n",
    "# treinando por 1000 épocas\n",
    "\n",
    "# ps: trainer.trainUntilConvergence para treinar até...\n",
    "#...convergir."
   ]
  },
  {
   "cell_type": "code",
   "execution_count": 20,
   "metadata": {
    "collapsed": false
   },
   "outputs": [
    {
     "name": "stdout",
     "output_type": "stream",
     "text": [
      "\n",
      "Testing on data:\n",
      "('out:    ', '[-0    ]')\n",
      "('correct:', '[0     ]')\n",
      "error:  0.00000000\n",
      "('out:    ', '[1     ]')\n",
      "('correct:', '[1     ]')\n",
      "error:  0.00000000\n",
      "('out:    ', '[1     ]')\n",
      "('correct:', '[1     ]')\n",
      "error:  0.00000000\n",
      "('out:    ', '[-0    ]')\n",
      "('correct:', '[0     ]')\n",
      "error:  0.00000000\n",
      "('All errors:', [1.2458063539724612e-09, 1.5410988861059943e-10, 1.5513769748250037e-09, 8.0115599651717921e-10])\n",
      "('Average error:', 9.3811230348131088e-10)\n",
      "('Max error:', 1.5513769748250037e-09, 'Median error:', 1.2458063539724612e-09)\n"
     ]
    },
    {
     "data": {
      "text/plain": [
       "9.3811230348131088e-10"
      ]
     },
     "execution_count": 20,
     "metadata": {},
     "output_type": "execute_result"
    }
   ],
   "source": [
    "# testando\n",
    "\n",
    "# conjunto de teste para treino\n",
    "test_data = SupervisedDataSet(2, 1)\n",
    "test_data.addSample([1,1], [0])\n",
    "test_data.addSample([1,0], [1])\n",
    "test_data.addSample([0,1], [1])\n",
    "test_data.addSample([0,0], [0])\n",
    "\n",
    "# iniciado os testes\n",
    "trainer.testOnData(test_data, verbose=True)"
   ]
  }
 ],
 "metadata": {
  "kernelspec": {
   "display_name": "Python 3",
   "language": "python",
   "name": "python3"
  },
  "language_info": {
   "codemirror_mode": {
    "name": "ipython",
    "version": 3
   },
   "file_extension": ".py",
   "mimetype": "text/x-python",
   "name": "python",
   "nbconvert_exporter": "python",
   "pygments_lexer": "ipython3",
   "version": "3.4.3"
  }
 },
 "nbformat": 4,
 "nbformat_minor": 2
}
