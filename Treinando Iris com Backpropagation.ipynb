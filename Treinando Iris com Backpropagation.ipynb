{
 "cells": [
  {
   "cell_type": "code",
   "execution_count": 1,
   "metadata": {
    "collapsed": true
   },
   "outputs": [],
   "source": [
    "import numpy as np\n",
    "\n",
    "entradas = np.genfromtxt(\"iris.data\", delimiter=',', usecols=(0,1,2,3))\n",
    "saidas = np.genfromtxt(\"iris.data\", delimiter=',', usecols=(4))"
   ]
  },
  {
   "cell_type": "code",
   "execution_count": 3,
   "metadata": {
    "collapsed": false
   },
   "outputs": [
    {
     "name": "stdout",
     "output_type": "stream",
     "text": [
      "105\n",
      "105\n"
     ]
    }
   ],
   "source": [
    "entradas_treino = np.concatenate((entradas[:35], entradas[50:85], entradas[100:135]))\n",
    "saidas_treino = np.concatenate((saidas[:35], saidas[50:85], saidas[100:135]))\n",
    "\n",
    "print(len(entradas_treino))\n",
    "print(len(saidas_treino))"
   ]
  },
  {
   "cell_type": "code",
   "execution_count": 4,
   "metadata": {
    "collapsed": false
   },
   "outputs": [
    {
     "name": "stdout",
     "output_type": "stream",
     "text": [
      "45\n",
      "45\n"
     ]
    }
   ],
   "source": [
    "entradas_teste = np.concatenate((entradas[35:50], entradas[85:100], entradas[135:]))\n",
    "saidas_teste = np.concatenate((saidas[35:50], saidas[85:100], saidas[135:]))\n",
    "\n",
    "print(len(entradas_teste))\n",
    "print(len(saidas_teste))"
   ]
  },
  {
   "cell_type": "code",
   "execution_count": 66,
   "metadata": {
    "collapsed": false
   },
   "outputs": [],
   "source": [
    "from pybrain.datasets import SupervisedDataSet\n",
    "from pybrain.tools.shortcuts import buildNetwork\n",
    "from pybrain.supervised import BackpropTrainer\n",
    "\n",
    "treinamento = SupervisedDataSet(4, 1)\n",
    "for i in range(len(entradas_treino)):\n",
    "    treinamento.addSample(entradas_treino[i], saidas_treino[i])\n",
    "\n",
    "rede = buildNetwork(treinamento.indim, 2, treinamento.outdim, bias=True)\n",
    "trainer = BackpropTrainer(rede, treinamento, learningrate=0.05, momentum=0.09)\n",
    "\n",
    "trainer.trainEpochs(2000)"
   ]
  },
  {
   "cell_type": "code",
   "execution_count": 67,
   "metadata": {
    "collapsed": false
   },
   "outputs": [
    {
     "name": "stdout",
     "output_type": "stream",
     "text": [
      "\n",
      "Testing on data:\n",
      "('out:    ', '[0.005 ]')\n",
      "('correct:', '[0     ]')\n",
      "error:  0.00001034\n",
      "('out:    ', '[0.001 ]')\n",
      "('correct:', '[0     ]')\n",
      "error:  0.00000057\n",
      "('out:    ', '[0.012 ]')\n",
      "('correct:', '[0     ]')\n",
      "error:  0.00006937\n",
      "('out:    ', '[0.015 ]')\n",
      "('correct:', '[0     ]')\n",
      "error:  0.00010910\n",
      "('out:    ', '[0.008 ]')\n",
      "('correct:', '[0     ]')\n",
      "error:  0.00003198\n",
      "('out:    ', '[0.005 ]')\n",
      "('correct:', '[0     ]')\n",
      "error:  0.00001123\n",
      "('out:    ', '[0.076 ]')\n",
      "('correct:', '[0     ]')\n",
      "error:  0.00290162\n",
      "('out:    ', '[0.009 ]')\n",
      "('correct:', '[0     ]')\n",
      "error:  0.00004038\n",
      "('out:    ', '[0.043 ]')\n",
      "('correct:', '[0     ]')\n",
      "error:  0.00090872\n",
      "('out:    ', '[0.025 ]')\n",
      "('correct:', '[0     ]')\n",
      "error:  0.00030062\n",
      "('out:    ', '[0.025 ]')\n",
      "('correct:', '[0     ]')\n",
      "error:  0.00032104\n",
      "('out:    ', '[0.003 ]')\n",
      "('correct:', '[0     ]')\n",
      "error:  0.00000438\n",
      "('out:    ', '[0.012 ]')\n",
      "('correct:', '[0     ]')\n",
      "error:  0.00006798\n",
      "('out:    ', '[0.002 ]')\n",
      "('correct:', '[0     ]')\n",
      "error:  0.00000232\n",
      "('out:    ', '[0.008 ]')\n",
      "('correct:', '[0     ]')\n",
      "error:  0.00002938\n",
      "('out:    ', '[0.995 ]')\n",
      "('correct:', '[1     ]')\n",
      "error:  0.00001101\n",
      "('out:    ', '[0.989 ]')\n",
      "('correct:', '[1     ]')\n",
      "error:  0.00006042\n",
      "('out:    ', '[1.012 ]')\n",
      "('correct:', '[1     ]')\n",
      "error:  0.00007685\n",
      "('out:    ', '[0.981 ]')\n",
      "('correct:', '[1     ]')\n",
      "error:  0.00018766\n",
      "('out:    ', '[1     ]')\n",
      "('correct:', '[1     ]')\n",
      "error:  0.00000000\n",
      "('out:    ', '[1.052 ]')\n",
      "('correct:', '[1     ]')\n",
      "error:  0.00137581\n",
      "('out:    ', '[1.006 ]')\n",
      "('correct:', '[1     ]')\n",
      "error:  0.00001968\n",
      "('out:    ', '[0.98  ]')\n",
      "('correct:', '[1     ]')\n",
      "error:  0.00020225\n",
      "('out:    ', '[0.962 ]')\n",
      "('correct:', '[1     ]')\n",
      "error:  0.00071548\n",
      "('out:    ', '[1.002 ]')\n",
      "('correct:', '[1     ]')\n",
      "error:  0.00000166\n",
      "('out:    ', '[0.979 ]')\n",
      "('correct:', '[1     ]')\n",
      "error:  0.00022754\n",
      "('out:    ', '[0.986 ]')\n",
      "('correct:', '[1     ]')\n",
      "error:  0.00009821\n",
      "('out:    ', '[0.981 ]')\n",
      "('correct:', '[1     ]')\n",
      "error:  0.00017966\n",
      "('out:    ', '[0.942 ]')\n",
      "('correct:', '[1     ]')\n",
      "error:  0.00167788\n",
      "('out:    ', '[0.984 ]')\n",
      "('correct:', '[1     ]')\n",
      "error:  0.00012261\n",
      "('out:    ', '[2.008 ]')\n",
      "('correct:', '[2     ]')\n",
      "error:  0.00003086\n",
      "('out:    ', '[2.012 ]')\n",
      "('correct:', '[2     ]')\n",
      "error:  0.00007664\n",
      "('out:    ', '[1.925 ]')\n",
      "('correct:', '[2     ]')\n",
      "error:  0.00279364\n",
      "('out:    ', '[1.52  ]')\n",
      "('correct:', '[2     ]')\n",
      "error:  0.11504905\n",
      "('out:    ', '[1.886 ]')\n",
      "('correct:', '[2     ]')\n",
      "error:  0.00646286\n",
      "('out:    ', '[2.012 ]')\n",
      "('correct:', '[2     ]')\n",
      "error:  0.00006749\n",
      "('out:    ', '[1.817 ]')\n",
      "('correct:', '[2     ]')\n",
      "error:  0.01674386\n",
      "('out:    ', '[1.998 ]')\n",
      "('correct:', '[2     ]')\n",
      "error:  0.00000180\n",
      "('out:    ', '[2.013 ]')\n",
      "('correct:', '[2     ]')\n",
      "error:  0.00008664\n",
      "('out:    ', '[2.013 ]')\n",
      "('correct:', '[2     ]')\n",
      "error:  0.00008674\n",
      "('out:    ', '[1.966 ]')\n",
      "('correct:', '[2     ]')\n",
      "error:  0.00057600\n",
      "('out:    ', '[1.946 ]')\n",
      "('correct:', '[2     ]')\n",
      "error:  0.00146511\n",
      "('out:    ', '[1.879 ]')\n",
      "('correct:', '[2     ]')\n",
      "error:  0.00734516\n",
      "('out:    ', '[2.001 ]')\n",
      "('correct:', '[2     ]')\n",
      "error:  0.00000081\n",
      "('out:    ', '[1.899 ]')\n",
      "('correct:', '[2     ]')\n",
      "error:  0.00508292\n",
      "('All errors:', [1.0341683223434186e-05, 5.7443319819535131e-07, 6.9373713238236485e-05, 0.00010910203410552983, 3.1976812868383193e-05, 1.1231758170981036e-05, 0.0029016185620125362, 4.0376176059313227e-05, 0.00090871904287176907, 0.00030062177742753749, 0.00032104193949429735, 4.3768001672178074e-06, 6.7984641217240686e-05, 2.3153264324167168e-06, 2.9382558806635724e-05, 1.1005286870982273e-05, 6.0424945448835177e-05, 7.6850525324127526e-05, 0.00018765982153430335, 1.4369170132587539e-10, 0.0013758083117272183, 1.9679859680109234e-05, 0.00020225036756769515, 0.00071547720343632015, 1.6593459858554853e-06, 0.00022754268885663467, 9.8210882986137939e-05, 0.00017965521351089551, 0.0016778751437215023, 0.00012261299185945757, 3.0856373978612283e-05, 7.664038813366949e-05, 0.0027936430031061344, 0.11504904870626934, 0.0064628585103815523, 6.7486345842099747e-05, 0.016743857462065893, 1.7955160782872518e-06, 8.6638681321709696e-05, 8.674492733869636e-05, 0.00057599842084607856, 0.0014651084798859592, 0.0073451567997019603, 8.1149656980376643e-07, 0.0050829184777721245])\n",
      "('Average error:', 0.0036807847462397214)\n",
      "('Max error:', 0.11504904870626934, 'Median error:', 8.674492733869636e-05)\n"
     ]
    },
    {
     "data": {
      "text/plain": [
       "0.0036807847462397214"
      ]
     },
     "execution_count": 67,
     "metadata": {},
     "output_type": "execute_result"
    }
   ],
   "source": [
    "teste = SupervisedDataSet(4, 1)\n",
    "for i in range(len(entradas_teste)):\n",
    "    teste.addSample(entradas_teste[i], saidas_teste[i])\n",
    "    \n",
    "trainer.testOnData(teste, verbose=True)"
   ]
  }
 ],
 "metadata": {
  "kernelspec": {
   "display_name": "Python 3",
   "language": "python",
   "name": "python3"
  },
  "language_info": {
   "codemirror_mode": {
    "name": "ipython",
    "version": 3
   },
   "file_extension": ".py",
   "mimetype": "text/x-python",
   "name": "python",
   "nbconvert_exporter": "python",
   "pygments_lexer": "ipython3",
   "version": "3.4.3"
  }
 },
 "nbformat": 4,
 "nbformat_minor": 2
}
